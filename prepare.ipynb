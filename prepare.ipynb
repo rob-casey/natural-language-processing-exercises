{
 "cells": [
  {
   "cell_type": "markdown",
   "id": "a94f1bc6-6084-4579-a1b3-3cfc8c8cf6c1",
   "metadata": {},
   "source": [
    "# NLP Exercises - Data Preparation"
   ]
  },
  {
   "cell_type": "code",
   "execution_count": 1,
   "id": "29878457-69d8-4ea3-97eb-ae7948cca34c",
   "metadata": {},
   "outputs": [],
   "source": [
    "import unicodedata\n",
    "import re\n",
    "import json\n",
    "\n",
    "import nltk\n",
    "from nltk.tokenize.toktok import ToktokTokenizer\n",
    "from nltk.corpus import stopwords\n",
    "\n",
    "import pandas as pd\n",
    "\n",
    "import acquire as a"
   ]
  },
  {
   "cell_type": "code",
   "execution_count": 2,
   "id": "2a8eb2c4-16d9-41b9-9126-a616375e124d",
   "metadata": {},
   "outputs": [],
   "source": [
    "blogs = a.get_blog_articles_data()"
   ]
  },
  {
   "cell_type": "code",
   "execution_count": 3,
   "id": "26bf48fe-d44d-4a19-95c7-a9a36e957350",
   "metadata": {},
   "outputs": [
    {
     "data": {
      "text/html": [
       "<div>\n",
       "<style scoped>\n",
       "    .dataframe tbody tr th:only-of-type {\n",
       "        vertical-align: middle;\n",
       "    }\n",
       "\n",
       "    .dataframe tbody tr th {\n",
       "        vertical-align: top;\n",
       "    }\n",
       "\n",
       "    .dataframe thead th {\n",
       "        text-align: right;\n",
       "    }\n",
       "</style>\n",
       "<table border=\"1\" class=\"dataframe\">\n",
       "  <thead>\n",
       "    <tr style=\"text-align: right;\">\n",
       "      <th></th>\n",
       "      <th>title</th>\n",
       "      <th>content</th>\n",
       "    </tr>\n",
       "  </thead>\n",
       "  <tbody>\n",
       "    <tr>\n",
       "      <th>0</th>\n",
       "      <td>Women in tech: Panelist Spotlight – Magdalena ...</td>\n",
       "      <td>\\nCodeup is hosting a Women in Tech Panel in h...</td>\n",
       "    </tr>\n",
       "    <tr>\n",
       "      <th>1</th>\n",
       "      <td>Women in tech: Panelist Spotlight – Rachel Rob...</td>\n",
       "      <td>\\nCodeup is hosting a Women in Tech Panel in h...</td>\n",
       "    </tr>\n",
       "    <tr>\n",
       "      <th>2</th>\n",
       "      <td>Women in Tech: Panelist Spotlight – Sarah Mellor</td>\n",
       "      <td>\\nCodeup is hosting a Women in Tech Panel in ...</td>\n",
       "    </tr>\n",
       "    <tr>\n",
       "      <th>3</th>\n",
       "      <td>Women in Tech: Panelist Spotlight – Madeleine ...</td>\n",
       "      <td>\\nCodeup is hosting a Women in Tech Panel in h...</td>\n",
       "    </tr>\n",
       "    <tr>\n",
       "      <th>4</th>\n",
       "      <td>Black Excellence in Tech: Panelist Spotlight –...</td>\n",
       "      <td>\\n\\nCodeup is hosting a Black Excellence in Te...</td>\n",
       "    </tr>\n",
       "  </tbody>\n",
       "</table>\n",
       "</div>"
      ],
      "text/plain": [
       "                                               title  \\\n",
       "0  Women in tech: Panelist Spotlight – Magdalena ...   \n",
       "1  Women in tech: Panelist Spotlight – Rachel Rob...   \n",
       "2   Women in Tech: Panelist Spotlight – Sarah Mellor   \n",
       "3  Women in Tech: Panelist Spotlight – Madeleine ...   \n",
       "4  Black Excellence in Tech: Panelist Spotlight –...   \n",
       "\n",
       "                                             content  \n",
       "0  \\nCodeup is hosting a Women in Tech Panel in h...  \n",
       "1  \\nCodeup is hosting a Women in Tech Panel in h...  \n",
       "2   \\nCodeup is hosting a Women in Tech Panel in ...  \n",
       "3  \\nCodeup is hosting a Women in Tech Panel in h...  \n",
       "4  \\n\\nCodeup is hosting a Black Excellence in Te...  "
      ]
     },
     "execution_count": 3,
     "metadata": {},
     "output_type": "execute_result"
    }
   ],
   "source": [
    "blogs.head()"
   ]
  },
  {
   "cell_type": "markdown",
   "id": "e1d84513-c4a4-4ce1-8356-4ed2ac993d56",
   "metadata": {},
   "source": [
    "Define a function named `basic_clean`. \n",
    "\n",
    "It should take in a string and apply some basic text cleaning to it:\n",
    "* Lowercase everything\n",
    "* Normalize unicode characters\n",
    "* Replace anything that is not a letter, number, whitespace or a single quote."
   ]
  },
  {
   "cell_type": "code",
   "execution_count": 4,
   "id": "9689508a-ba20-4d37-b6de-34036f0e9401",
   "metadata": {},
   "outputs": [],
   "source": [
    "def basic_clean(string):\n",
    "    # lowercase all letters\n",
    "    string = string.lower()\n",
    "    # normalize unicode characters\n",
    "    string = unicodedata.normalize('NFKD', string)\\\n",
    "        .encode('ascii', 'ignore')\\\n",
    "        .decode('utf-8', 'ignore').lower()\n",
    "    # replace everything that isn't letters, numbers, \n",
    "    # whitespace, or single quotes\n",
    "    string = re.sub(r\"[^a-z0-9'\\s]\", '', string)\n",
    "    return string"
   ]
  },
  {
   "cell_type": "code",
   "execution_count": 5,
   "id": "77a0ea81-125b-49b2-b5b1-89b49c566779",
   "metadata": {},
   "outputs": [
    {
     "data": {
      "text/plain": [
       "'\\ncodeup is hosting a women in tech panel in honor of womens history month on march 29th 2023 to further celebrate wed like to spotlight each of our panelists leading up to the discussion to learn a bit about their respective experiences as women in the tech industry\\n\\nmeet magdalena\\nmagdalena rahn is a current codeup student in a data science cohort in san antonio texas she has a professional background in crosscultural communications international business development the wine industry and journalism after serving in the us navy she decided to complement her professional skill set by attending the data science program at codeup she is set to graduate in march 2023 magdalena is fluent in french bulgarian chinesemandarin spanish and italian\\nwe asked magdalena how codeup impacted her career and she replied codeup has provided a solid foundation in analytical processes programming and data science methods and its been an encouragement to have such supportive instructors and wonderful classmates\\ndont forget to tune in on march 29th to sit in on an insightful conversation with magdalena'"
      ]
     },
     "execution_count": 5,
     "metadata": {},
     "output_type": "execute_result"
    }
   ],
   "source": [
    "basic_clean(blogs.content[0])"
   ]
  },
  {
   "cell_type": "markdown",
   "id": "ab2f97e4-050a-4af6-9062-b7e3937532d7",
   "metadata": {},
   "source": [
    "## 2. Define a function named tokenize. It should take in a string and tokenize all the words in the string."
   ]
  },
  {
   "cell_type": "code",
   "execution_count": 6,
   "id": "824a88bb-0b26-46bb-ad11-4e2d6de355be",
   "metadata": {},
   "outputs": [],
   "source": [
    "def tokenize(string):\n",
    "    # creates tokenizer object\n",
    "    tokenizer = nltk.tokenize.ToktokTokenizer()\n",
    "    # returns the string tokeized\n",
    "    return tokenizer.tokenize(string, return_str=True)"
   ]
  },
  {
   "cell_type": "code",
   "execution_count": 7,
   "id": "f78ec497-70f6-4c38-a910-3081c586345f",
   "metadata": {},
   "outputs": [
    {
     "data": {
      "text/plain": [
       "'Codeup is hosting a Women in Tech Panel in honor of Women ’ s History Month on March 29th , 2023 ! To further celebrate , we ’ d like to spotlight each of our panelists leading up to the discussion to learn a bit about their respective experiences as women in the tech industry ! \\n\\nMeet Magdalena ! \\nMagdalena Rahn is a current Codeup student in a Data Science cohort in San Antonio , Texas. She has a professional background in cross-cultural communications , international business development , the wine industry and journalism. After serving in the US Navy , she decided to complement her professional skill set by attending the Data Science program at Codeup ; she is set to graduate in March 2023. Magdalena is fluent in French , Bulgarian , Chinese-Mandarin , Spanish and Italian.\\nWe asked Magdalena how Codeup impacted her career , and she replied “Codeup has provided a solid foundation in analytical processes , programming and data science methods , and it ’ s been an encouragement to have such supportive instructors and wonderful classmates. ” \\nDon ’ t forget to tune in on March 29th to sit in on an insightful conversation with Magdalena .'"
      ]
     },
     "execution_count": 7,
     "metadata": {},
     "output_type": "execute_result"
    }
   ],
   "source": [
    "tokenize(blogs.content[0])"
   ]
  },
  {
   "cell_type": "markdown",
   "id": "4239d887-3d22-436a-b9be-27246ed1a2cc",
   "metadata": {},
   "source": [
    "## 3. Define a function named stem. It should accept some text and return the text after applying stemming to all the words."
   ]
  },
  {
   "cell_type": "code",
   "execution_count": 8,
   "id": "0ecf1d94-7d20-4ac3-90c9-f617a7a18165",
   "metadata": {},
   "outputs": [],
   "source": [
    "def stem(text):\n",
    "    # creates the stemming object\n",
    "    ps = nltk.porter.PorterStemmer()\n",
    "    # creates variable stem that reads all words in text split into a list as a list\n",
    "    stems = [ps.stem(word) for word in text.split()]\n",
    "    # creates variable to join all words from previous list with a space as one string\n",
    "    article_stemmed = ' '.join(stems)\n",
    "    return article_stemmed"
   ]
  },
  {
   "cell_type": "code",
   "execution_count": 9,
   "id": "79cebf02-7fac-4f46-b2b7-f67940b83d5b",
   "metadata": {},
   "outputs": [
    {
     "data": {
      "text/plain": [
       "'codeup is host a women in tech panel in honor of women’ histori month on march 29th, 2023! to further celebrate, we’d like to spotlight each of our panelist lead up to the discuss to learn a bit about their respect experi as women in the tech industry! meet magdalena! magdalena rahn is a current codeup student in a data scienc cohort in san antonio, texas. she ha a profession background in cross-cultur communications, intern busi development, the wine industri and journalism. after serv in the us navy, she decid to complement her profession skill set by attend the data scienc program at codeup; she is set to graduat in march 2023. magdalena is fluent in french, bulgarian, chinese-mandarin, spanish and italian. we ask magdalena how codeup impact her career, and she repli “codeup ha provid a solid foundat in analyt processes, program and data scienc methods, and it’ been an encourag to have such support instructor and wonder classmates.” don’t forget to tune in on march 29th to sit in on an insight convers with magdalena.'"
      ]
     },
     "execution_count": 9,
     "metadata": {},
     "output_type": "execute_result"
    }
   ],
   "source": [
    "stem(blogs.content[0])"
   ]
  },
  {
   "cell_type": "markdown",
   "id": "4a239e94-74e5-4bbd-a6ef-35d8bd89f7f0",
   "metadata": {},
   "source": [
    "## 4. Define a function named lemmatize. It should accept some text and return the text after applying lemmatization to each word."
   ]
  },
  {
   "cell_type": "code",
   "execution_count": 10,
   "id": "675f04c4-6776-49fa-9f5f-199ca9fd9ac2",
   "metadata": {},
   "outputs": [],
   "source": [
    "def lemmatize(text):\n",
    "    # create the lemmatization object\n",
    "    wnl = nltk.stem.WordNetLemmatizer()\n",
    "    # splits words in text to a list, then lemmatizes each word in the list\n",
    "    lemmas = [wnl.lemmatize(word) for word in text.split()]\n",
    "    # joins each word as a single string with a space between the words\n",
    "    text = ' '.join(lemmas)\n",
    "    return text"
   ]
  },
  {
   "cell_type": "code",
   "execution_count": 11,
   "id": "8b884e14-5e38-4a8d-8c05-877547d13a5b",
   "metadata": {},
   "outputs": [
    {
     "data": {
      "text/plain": [
       "'Codeup is hosting a Women in Tech Panel in honor of Women’s History Month on March 29th, 2023! To further celebrate, we’d like to spotlight each of our panelist leading up to the discussion to learn a bit about their respective experience a woman in the tech industry! Meet Magdalena! Magdalena Rahn is a current Codeup student in a Data Science cohort in San Antonio, Texas. She ha a professional background in cross-cultural communications, international business development, the wine industry and journalism. After serving in the US Navy, she decided to complement her professional skill set by attending the Data Science program at Codeup; she is set to graduate in March 2023. Magdalena is fluent in French, Bulgarian, Chinese-Mandarin, Spanish and Italian. We asked Magdalena how Codeup impacted her career, and she replied “Codeup ha provided a solid foundation in analytical processes, programming and data science methods, and it’s been an encouragement to have such supportive instructor and wonderful classmates.” Don’t forget to tune in on March 29th to sit in on an insightful conversation with Magdalena.'"
      ]
     },
     "execution_count": 11,
     "metadata": {},
     "output_type": "execute_result"
    }
   ],
   "source": [
    "lemmatize(blogs.content[0])"
   ]
  },
  {
   "cell_type": "markdown",
   "id": "5eafcde5-631d-4f74-9640-fe40d45a9b48",
   "metadata": {},
   "source": [
    "## 5. Define a function named remove_stopwords. It should accept some text and return the text after removing all the stopwords.\n",
    "This function should define two optional parameters, extra_words and exclude_words. These parameters should define any additional stop words to include, and any words that we don't want to remove."
   ]
  },
  {
   "cell_type": "code",
   "execution_count": 12,
   "id": "24e32826-c787-44e0-bbc2-6fc548798bf4",
   "metadata": {},
   "outputs": [
    {
     "data": {
      "text/plain": [
       "['i', 'me', 'my', 'myself', 'we', 'our', 'ours', 'ourselves', 'you', \"you're\"]"
      ]
     },
     "execution_count": 12,
     "metadata": {},
     "output_type": "execute_result"
    }
   ],
   "source": [
    "stopword_list = stopwords.words('english')\n",
    "stopword_list[:10]"
   ]
  },
  {
   "cell_type": "code",
   "execution_count": 13,
   "id": "e11e9a71-a6f1-455d-bb91-f191489713d0",
   "metadata": {},
   "outputs": [],
   "source": [
    "def remove_stopwords(text, extra_words=[], exclude_words=[]):\n",
    "    # creates list of stop words\n",
    "    stopword_list = stopwords.words('english')\n",
    "    \n",
    "    # remove 'exclude_words' from stopword_list to keep these in the text.\n",
    "    stopword_list = set(stopword_list) - set(exclude_words)\n",
    "\n",
    "    # add 'extra_words' to stopword_list.\n",
    "    stopword_list = stopword_list.union(set(extra_words))\n",
    "    \n",
    "    # split words in string.\n",
    "    words = text.split()\n",
    "    \n",
    "    # Create a list of words from my string with stopwords removed and assign to variable.\n",
    "    filtered_words = [word for word in words if word not in stopword_list]\n",
    "    \n",
    "    # Join words in the list back into strings and assign to a variable.\n",
    "    string_without_stopwords = ' '.join(filtered_words)\n",
    "    \n",
    "    return string_without_stopwords"
   ]
  },
  {
   "cell_type": "code",
   "execution_count": 14,
   "id": "1df1f8f1-e0c2-4d30-9453-dceed9ffb721",
   "metadata": {},
   "outputs": [
    {
     "data": {
      "text/plain": [
       "'Codeup hosting Women Tech Panel honor Women’s History Month March 29th, 2023! To celebrate, we’d like spotlight panelists leading discussion learn bit respective experiences women tech industry! Meet Magdalena! Magdalena Rahn current Codeup student Data Science cohort San Antonio, Texas. She professional background cross-cultural communications, international business development, wine industry journalism. After serving US Navy, decided complement professional skill set attending Data Science program Codeup; set graduate March 2023. Magdalena fluent French, Bulgarian, Chinese-Mandarin, Spanish Italian. We asked Magdalena Codeup impacted career, replied “Codeup provided solid foundation analytical processes, programming data science methods, it’s encouragement supportive instructors wonderful classmates.” Don’t forget tune March 29th sit insightful conversation Magdalena.'"
      ]
     },
     "execution_count": 14,
     "metadata": {},
     "output_type": "execute_result"
    }
   ],
   "source": [
    "remove_stopwords(blogs.content[0])"
   ]
  },
  {
   "cell_type": "markdown",
   "id": "05a26c95-a3b5-450f-8433-049030b7fdf6",
   "metadata": {},
   "source": [
    "## 6. Use your data from the acquire to produce a dataframe of the news articles. Name the dataframe news_df."
   ]
  },
  {
   "cell_type": "code",
   "execution_count": 15,
   "id": "f951993f-028e-4232-8f96-6c1df555f46a",
   "metadata": {},
   "outputs": [],
   "source": [
    "news_df = a.get_news_articles_data(refresh=False)"
   ]
  },
  {
   "cell_type": "code",
   "execution_count": 16,
   "id": "4dc61f1b-ed53-4075-ba69-c7a84f2555e5",
   "metadata": {},
   "outputs": [
    {
     "data": {
      "text/html": [
       "<div>\n",
       "<style scoped>\n",
       "    .dataframe tbody tr th:only-of-type {\n",
       "        vertical-align: middle;\n",
       "    }\n",
       "\n",
       "    .dataframe tbody tr th {\n",
       "        vertical-align: top;\n",
       "    }\n",
       "\n",
       "    .dataframe thead th {\n",
       "        text-align: right;\n",
       "    }\n",
       "</style>\n",
       "<table border=\"1\" class=\"dataframe\">\n",
       "  <thead>\n",
       "    <tr style=\"text-align: right;\">\n",
       "      <th></th>\n",
       "      <th>title</th>\n",
       "      <th>content</th>\n",
       "      <th>category</th>\n",
       "    </tr>\n",
       "  </thead>\n",
       "  <tbody>\n",
       "    <tr>\n",
       "      <th>0</th>\n",
       "      <td>RR's Yashasvi Jaiswal smashes fastest fifty in...</td>\n",
       "      <td>Rajasthan Royals (RR) opener Yashasvi Jaiswal ...</td>\n",
       "      <td>national</td>\n",
       "    </tr>\n",
       "    <tr>\n",
       "      <th>1</th>\n",
       "      <td>Rajasthan Royals record biggest win of IPL 202...</td>\n",
       "      <td>Rajasthan Royals (RR) on Thursday recorded the...</td>\n",
       "      <td>national</td>\n",
       "    </tr>\n",
       "    <tr>\n",
       "      <th>2</th>\n",
       "      <td>RR break record for scoring most runs in 1st o...</td>\n",
       "      <td>RR on Thursday broke the record for scoring mo...</td>\n",
       "      <td>national</td>\n",
       "    </tr>\n",
       "    <tr>\n",
       "      <th>3</th>\n",
       "      <td>Laxman Sivaramakrishnan mocks Kamal Haasan ove...</td>\n",
       "      <td>Ex-India spinner Laxman Sivaramakrishnan took ...</td>\n",
       "      <td>national</td>\n",
       "    </tr>\n",
       "    <tr>\n",
       "      <th>4</th>\n",
       "      <td>Which Indians have smashed fifty off 15 or les...</td>\n",
       "      <td>RR's Yashasvi Jaiswal today slammed the fastes...</td>\n",
       "      <td>national</td>\n",
       "    </tr>\n",
       "  </tbody>\n",
       "</table>\n",
       "</div>"
      ],
      "text/plain": [
       "                                               title  \\\n",
       "0  RR's Yashasvi Jaiswal smashes fastest fifty in...   \n",
       "1  Rajasthan Royals record biggest win of IPL 202...   \n",
       "2  RR break record for scoring most runs in 1st o...   \n",
       "3  Laxman Sivaramakrishnan mocks Kamal Haasan ove...   \n",
       "4  Which Indians have smashed fifty off 15 or les...   \n",
       "\n",
       "                                             content  category  \n",
       "0  Rajasthan Royals (RR) opener Yashasvi Jaiswal ...  national  \n",
       "1  Rajasthan Royals (RR) on Thursday recorded the...  national  \n",
       "2  RR on Thursday broke the record for scoring mo...  national  \n",
       "3  Ex-India spinner Laxman Sivaramakrishnan took ...  national  \n",
       "4  RR's Yashasvi Jaiswal today slammed the fastes...  national  "
      ]
     },
     "execution_count": 16,
     "metadata": {},
     "output_type": "execute_result"
    }
   ],
   "source": [
    "news_df.head()"
   ]
  },
  {
   "cell_type": "markdown",
   "id": "7873c12d-8956-4d75-8b32-da418a5332a1",
   "metadata": {},
   "source": [
    "## 7. Make another dataframe for the Codeup blog posts. Name the dataframe codeup_df."
   ]
  },
  {
   "cell_type": "code",
   "execution_count": 18,
   "id": "ed5968d5-143e-4dfe-99d9-aaa67a15d747",
   "metadata": {},
   "outputs": [],
   "source": [
    "codeup_df = a.get_blog_articles_data()"
   ]
  },
  {
   "cell_type": "code",
   "execution_count": 19,
   "id": "9f25b08b-0c2c-493f-a07b-9fd7abfff37a",
   "metadata": {},
   "outputs": [
    {
     "data": {
      "text/html": [
       "<div>\n",
       "<style scoped>\n",
       "    .dataframe tbody tr th:only-of-type {\n",
       "        vertical-align: middle;\n",
       "    }\n",
       "\n",
       "    .dataframe tbody tr th {\n",
       "        vertical-align: top;\n",
       "    }\n",
       "\n",
       "    .dataframe thead th {\n",
       "        text-align: right;\n",
       "    }\n",
       "</style>\n",
       "<table border=\"1\" class=\"dataframe\">\n",
       "  <thead>\n",
       "    <tr style=\"text-align: right;\">\n",
       "      <th></th>\n",
       "      <th>title</th>\n",
       "      <th>content</th>\n",
       "    </tr>\n",
       "  </thead>\n",
       "  <tbody>\n",
       "    <tr>\n",
       "      <th>0</th>\n",
       "      <td>Women in tech: Panelist Spotlight – Magdalena ...</td>\n",
       "      <td>\\nCodeup is hosting a Women in Tech Panel in h...</td>\n",
       "    </tr>\n",
       "    <tr>\n",
       "      <th>1</th>\n",
       "      <td>Women in tech: Panelist Spotlight – Rachel Rob...</td>\n",
       "      <td>\\nCodeup is hosting a Women in Tech Panel in h...</td>\n",
       "    </tr>\n",
       "    <tr>\n",
       "      <th>2</th>\n",
       "      <td>Women in Tech: Panelist Spotlight – Sarah Mellor</td>\n",
       "      <td>\\nCodeup is hosting a Women in Tech Panel in ...</td>\n",
       "    </tr>\n",
       "    <tr>\n",
       "      <th>3</th>\n",
       "      <td>Women in Tech: Panelist Spotlight – Madeleine ...</td>\n",
       "      <td>\\nCodeup is hosting a Women in Tech Panel in h...</td>\n",
       "    </tr>\n",
       "    <tr>\n",
       "      <th>4</th>\n",
       "      <td>Black Excellence in Tech: Panelist Spotlight –...</td>\n",
       "      <td>\\n\\nCodeup is hosting a Black Excellence in Te...</td>\n",
       "    </tr>\n",
       "    <tr>\n",
       "      <th>5</th>\n",
       "      <td>Black excellence in tech: Panelist Spotlight –...</td>\n",
       "      <td>\\nCodeup is hosting our second Black Excellenc...</td>\n",
       "    </tr>\n",
       "  </tbody>\n",
       "</table>\n",
       "</div>"
      ],
      "text/plain": [
       "                                               title  \\\n",
       "0  Women in tech: Panelist Spotlight – Magdalena ...   \n",
       "1  Women in tech: Panelist Spotlight – Rachel Rob...   \n",
       "2   Women in Tech: Panelist Spotlight – Sarah Mellor   \n",
       "3  Women in Tech: Panelist Spotlight – Madeleine ...   \n",
       "4  Black Excellence in Tech: Panelist Spotlight –...   \n",
       "5  Black excellence in tech: Panelist Spotlight –...   \n",
       "\n",
       "                                             content  \n",
       "0  \\nCodeup is hosting a Women in Tech Panel in h...  \n",
       "1  \\nCodeup is hosting a Women in Tech Panel in h...  \n",
       "2   \\nCodeup is hosting a Women in Tech Panel in ...  \n",
       "3  \\nCodeup is hosting a Women in Tech Panel in h...  \n",
       "4  \\n\\nCodeup is hosting a Black Excellence in Te...  \n",
       "5  \\nCodeup is hosting our second Black Excellenc...  "
      ]
     },
     "execution_count": 19,
     "metadata": {},
     "output_type": "execute_result"
    }
   ],
   "source": [
    "codeup_df"
   ]
  },
  {
   "cell_type": "markdown",
   "id": "167b8705-d87e-4324-ae2d-c4fd18e804cc",
   "metadata": {},
   "source": [
    "## 8. For each dataframe, produce the following columns:\n",
    "\n",
    "* `title` to hold the title\n",
    "* `original` to hold the original article/post content\n",
    "* `clean` to hold the normalized and tokenized original with the stopwords removed.\n",
    "* `stemmed` to hold the stemmed version of the cleaned data.\n",
    "* `lemmatized` to hold the lemmatized version of the cleaned data."
   ]
  },
  {
   "cell_type": "code",
   "execution_count": 20,
   "id": "433e3cf8-f550-4ae3-ba69-bba2d643a5a5",
   "metadata": {},
   "outputs": [
    {
     "data": {
      "text/plain": [
       "0    rajasthan royal rr opener yashasvi jaiswal thu...\n",
       "1    rajasthan royal rr thursday recorded biggest w...\n",
       "2    rr thursday broke record scoring run first ipl...\n",
       "3    exindia spinner laxman sivaramakrishnan took d...\n",
       "4    rr ' yashasvi jaiswal today slammed fastest fi...\n",
       "Name: content, dtype: object"
      ]
     },
     "execution_count": 20,
     "metadata": {},
     "output_type": "execute_result"
    }
   ],
   "source": [
    "\n",
    "news_df.content.apply(basic_clean).apply(tokenize).apply(remove_stopwords).apply(lemmatize).head()"
   ]
  },
  {
   "cell_type": "code",
   "execution_count": 21,
   "id": "3ce6a0db-61d1-46bc-9425-96827c3a190f",
   "metadata": {},
   "outputs": [],
   "source": [
    "def prep_article_data(df, column, extra_words=[], exclude_words=[]):\n",
    "    df = df.rename(columns={column:'original'})\n",
    "    df['clean'] = df.original.apply(basic_clean)\\\n",
    "        .apply(tokenize)\\\n",
    "        .apply(remove_stopwords,\n",
    "               extra_words=extra_words, \n",
    "               exclude_words=exclude_words)\n",
    "    df['stemmed'] = df.clean.apply(stem)\n",
    "    df['lemmatized'] = df.clean.apply(lemmatize)\n",
    "    return df"
   ]
  },
  {
   "cell_type": "code",
   "execution_count": 22,
   "id": "c359c350-2a8f-44a6-9837-45ba9e46855c",
   "metadata": {},
   "outputs": [
    {
     "data": {
      "text/html": [
       "<div>\n",
       "<style scoped>\n",
       "    .dataframe tbody tr th:only-of-type {\n",
       "        vertical-align: middle;\n",
       "    }\n",
       "\n",
       "    .dataframe tbody tr th {\n",
       "        vertical-align: top;\n",
       "    }\n",
       "\n",
       "    .dataframe thead th {\n",
       "        text-align: right;\n",
       "    }\n",
       "</style>\n",
       "<table border=\"1\" class=\"dataframe\">\n",
       "  <thead>\n",
       "    <tr style=\"text-align: right;\">\n",
       "      <th></th>\n",
       "      <th>title</th>\n",
       "      <th>original</th>\n",
       "      <th>category</th>\n",
       "      <th>clean</th>\n",
       "      <th>stemmed</th>\n",
       "      <th>lemmatized</th>\n",
       "    </tr>\n",
       "  </thead>\n",
       "  <tbody>\n",
       "    <tr>\n",
       "      <th>0</th>\n",
       "      <td>RR's Yashasvi Jaiswal smashes fastest fifty in...</td>\n",
       "      <td>Rajasthan Royals (RR) opener Yashasvi Jaiswal ...</td>\n",
       "      <td>national</td>\n",
       "      <td>rajasthan royals rr opener yashasvi jaiswal th...</td>\n",
       "      <td>rajasthan royal rr open yashasvi jaiswal thurs...</td>\n",
       "      <td>rajasthan royal rr opener yashasvi jaiswal thu...</td>\n",
       "    </tr>\n",
       "    <tr>\n",
       "      <th>1</th>\n",
       "      <td>Rajasthan Royals record biggest win of IPL 202...</td>\n",
       "      <td>Rajasthan Royals (RR) on Thursday recorded the...</td>\n",
       "      <td>national</td>\n",
       "      <td>rajasthan royals rr thursday recorded biggest ...</td>\n",
       "      <td>rajasthan royal rr thursday record biggest win...</td>\n",
       "      <td>rajasthan royal rr thursday recorded biggest w...</td>\n",
       "    </tr>\n",
       "    <tr>\n",
       "      <th>2</th>\n",
       "      <td>RR break record for scoring most runs in 1st o...</td>\n",
       "      <td>RR on Thursday broke the record for scoring mo...</td>\n",
       "      <td>national</td>\n",
       "      <td>rr thursday broke record scoring runs first ip...</td>\n",
       "      <td>rr thursday broke record score run first ipl i...</td>\n",
       "      <td>rr thursday broke record scoring run first ipl...</td>\n",
       "    </tr>\n",
       "    <tr>\n",
       "      <th>3</th>\n",
       "      <td>Laxman Sivaramakrishnan mocks Kamal Haasan ove...</td>\n",
       "      <td>Ex-India spinner Laxman Sivaramakrishnan took ...</td>\n",
       "      <td>national</td>\n",
       "      <td>exindia spinner laxman sivaramakrishnan took d...</td>\n",
       "      <td>exindia spinner laxman sivaramakrishnan took d...</td>\n",
       "      <td>exindia spinner laxman sivaramakrishnan took d...</td>\n",
       "    </tr>\n",
       "    <tr>\n",
       "      <th>4</th>\n",
       "      <td>Which Indians have smashed fifty off 15 or les...</td>\n",
       "      <td>RR's Yashasvi Jaiswal today slammed the fastes...</td>\n",
       "      <td>national</td>\n",
       "      <td>rr ' yashasvi jaiswal today slammed fastest fi...</td>\n",
       "      <td>rr ' yashasvi jaiswal today slam fastest fifti...</td>\n",
       "      <td>rr ' yashasvi jaiswal today slammed fastest fi...</td>\n",
       "    </tr>\n",
       "  </tbody>\n",
       "</table>\n",
       "</div>"
      ],
      "text/plain": [
       "                                               title  \\\n",
       "0  RR's Yashasvi Jaiswal smashes fastest fifty in...   \n",
       "1  Rajasthan Royals record biggest win of IPL 202...   \n",
       "2  RR break record for scoring most runs in 1st o...   \n",
       "3  Laxman Sivaramakrishnan mocks Kamal Haasan ove...   \n",
       "4  Which Indians have smashed fifty off 15 or les...   \n",
       "\n",
       "                                            original  category  \\\n",
       "0  Rajasthan Royals (RR) opener Yashasvi Jaiswal ...  national   \n",
       "1  Rajasthan Royals (RR) on Thursday recorded the...  national   \n",
       "2  RR on Thursday broke the record for scoring mo...  national   \n",
       "3  Ex-India spinner Laxman Sivaramakrishnan took ...  national   \n",
       "4  RR's Yashasvi Jaiswal today slammed the fastes...  national   \n",
       "\n",
       "                                               clean  \\\n",
       "0  rajasthan royals rr opener yashasvi jaiswal th...   \n",
       "1  rajasthan royals rr thursday recorded biggest ...   \n",
       "2  rr thursday broke record scoring runs first ip...   \n",
       "3  exindia spinner laxman sivaramakrishnan took d...   \n",
       "4  rr ' yashasvi jaiswal today slammed fastest fi...   \n",
       "\n",
       "                                             stemmed  \\\n",
       "0  rajasthan royal rr open yashasvi jaiswal thurs...   \n",
       "1  rajasthan royal rr thursday record biggest win...   \n",
       "2  rr thursday broke record score run first ipl i...   \n",
       "3  exindia spinner laxman sivaramakrishnan took d...   \n",
       "4  rr ' yashasvi jaiswal today slam fastest fifti...   \n",
       "\n",
       "                                          lemmatized  \n",
       "0  rajasthan royal rr opener yashasvi jaiswal thu...  \n",
       "1  rajasthan royal rr thursday recorded biggest w...  \n",
       "2  rr thursday broke record scoring run first ipl...  \n",
       "3  exindia spinner laxman sivaramakrishnan took d...  \n",
       "4  rr ' yashasvi jaiswal today slammed fastest fi...  "
      ]
     },
     "execution_count": 22,
     "metadata": {},
     "output_type": "execute_result"
    }
   ],
   "source": [
    "prep_article_data(news_df, 'content').head()"
   ]
  },
  {
   "cell_type": "code",
   "execution_count": 23,
   "id": "5f995b7e-43c7-47c7-9043-d173272e2011",
   "metadata": {},
   "outputs": [
    {
     "data": {
      "text/html": [
       "<div>\n",
       "<style scoped>\n",
       "    .dataframe tbody tr th:only-of-type {\n",
       "        vertical-align: middle;\n",
       "    }\n",
       "\n",
       "    .dataframe tbody tr th {\n",
       "        vertical-align: top;\n",
       "    }\n",
       "\n",
       "    .dataframe thead th {\n",
       "        text-align: right;\n",
       "    }\n",
       "</style>\n",
       "<table border=\"1\" class=\"dataframe\">\n",
       "  <thead>\n",
       "    <tr style=\"text-align: right;\">\n",
       "      <th></th>\n",
       "      <th>title</th>\n",
       "      <th>original</th>\n",
       "      <th>clean</th>\n",
       "      <th>stemmed</th>\n",
       "      <th>lemmatized</th>\n",
       "    </tr>\n",
       "  </thead>\n",
       "  <tbody>\n",
       "    <tr>\n",
       "      <th>0</th>\n",
       "      <td>Women in tech: Panelist Spotlight – Magdalena ...</td>\n",
       "      <td>\\nCodeup is hosting a Women in Tech Panel in h...</td>\n",
       "      <td>codeup hosting women tech panel honor womens h...</td>\n",
       "      <td>codeup host women tech panel honor women histo...</td>\n",
       "      <td>codeup hosting woman tech panel honor woman hi...</td>\n",
       "    </tr>\n",
       "    <tr>\n",
       "      <th>1</th>\n",
       "      <td>Women in tech: Panelist Spotlight – Rachel Rob...</td>\n",
       "      <td>\\nCodeup is hosting a Women in Tech Panel in h...</td>\n",
       "      <td>codeup hosting women tech panel honor womens h...</td>\n",
       "      <td>codeup host women tech panel honor women histo...</td>\n",
       "      <td>codeup hosting woman tech panel honor woman hi...</td>\n",
       "    </tr>\n",
       "    <tr>\n",
       "      <th>2</th>\n",
       "      <td>Women in Tech: Panelist Spotlight – Sarah Mellor</td>\n",
       "      <td>\\nCodeup is hosting a Women in Tech Panel in ...</td>\n",
       "      <td>codeup hosting women tech panel honor womens h...</td>\n",
       "      <td>codeup host women tech panel honor women histo...</td>\n",
       "      <td>codeup hosting woman tech panel honor woman hi...</td>\n",
       "    </tr>\n",
       "    <tr>\n",
       "      <th>3</th>\n",
       "      <td>Women in Tech: Panelist Spotlight – Madeleine ...</td>\n",
       "      <td>\\nCodeup is hosting a Women in Tech Panel in h...</td>\n",
       "      <td>codeup hosting women tech panel honor womens h...</td>\n",
       "      <td>codeup host women tech panel honor women histo...</td>\n",
       "      <td>codeup hosting woman tech panel honor woman hi...</td>\n",
       "    </tr>\n",
       "    <tr>\n",
       "      <th>4</th>\n",
       "      <td>Black Excellence in Tech: Panelist Spotlight –...</td>\n",
       "      <td>\\n\\nCodeup is hosting a Black Excellence in Te...</td>\n",
       "      <td>codeup hosting black excellence tech panel hon...</td>\n",
       "      <td>codeup host black excel tech panel honor black...</td>\n",
       "      <td>codeup hosting black excellence tech panel hon...</td>\n",
       "    </tr>\n",
       "  </tbody>\n",
       "</table>\n",
       "</div>"
      ],
      "text/plain": [
       "                                               title  \\\n",
       "0  Women in tech: Panelist Spotlight – Magdalena ...   \n",
       "1  Women in tech: Panelist Spotlight – Rachel Rob...   \n",
       "2   Women in Tech: Panelist Spotlight – Sarah Mellor   \n",
       "3  Women in Tech: Panelist Spotlight – Madeleine ...   \n",
       "4  Black Excellence in Tech: Panelist Spotlight –...   \n",
       "\n",
       "                                            original  \\\n",
       "0  \\nCodeup is hosting a Women in Tech Panel in h...   \n",
       "1  \\nCodeup is hosting a Women in Tech Panel in h...   \n",
       "2   \\nCodeup is hosting a Women in Tech Panel in ...   \n",
       "3  \\nCodeup is hosting a Women in Tech Panel in h...   \n",
       "4  \\n\\nCodeup is hosting a Black Excellence in Te...   \n",
       "\n",
       "                                               clean  \\\n",
       "0  codeup hosting women tech panel honor womens h...   \n",
       "1  codeup hosting women tech panel honor womens h...   \n",
       "2  codeup hosting women tech panel honor womens h...   \n",
       "3  codeup hosting women tech panel honor womens h...   \n",
       "4  codeup hosting black excellence tech panel hon...   \n",
       "\n",
       "                                             stemmed  \\\n",
       "0  codeup host women tech panel honor women histo...   \n",
       "1  codeup host women tech panel honor women histo...   \n",
       "2  codeup host women tech panel honor women histo...   \n",
       "3  codeup host women tech panel honor women histo...   \n",
       "4  codeup host black excel tech panel honor black...   \n",
       "\n",
       "                                          lemmatized  \n",
       "0  codeup hosting woman tech panel honor woman hi...  \n",
       "1  codeup hosting woman tech panel honor woman hi...  \n",
       "2  codeup hosting woman tech panel honor woman hi...  \n",
       "3  codeup hosting woman tech panel honor woman hi...  \n",
       "4  codeup hosting black excellence tech panel hon...  "
      ]
     },
     "execution_count": 23,
     "metadata": {},
     "output_type": "execute_result"
    }
   ],
   "source": [
    "prep_article_data(codeup_df, 'content').head()"
   ]
  },
  {
   "cell_type": "markdown",
   "id": "6fcc8f4a-10fd-40cf-8cbb-bedac24db3ef",
   "metadata": {},
   "source": [
    "## 9. Ask yourself:\n",
    "\n",
    "* If your corpus is 493KB, would you prefer to use stemmed or lemmatized text?\n",
    "* If your corpus is 25MB, would you prefer to use stemmed or lemmatized text?\n",
    "* If your corpus is 200TB of text and you're charged by the megabyte for your hosted computational resources, would you prefer to use stemmed or lemmatized text?"
   ]
  },
  {
   "cell_type": "markdown",
   "id": "b5e64654-5cf9-4bf6-8ff7-21dc2412c043",
   "metadata": {},
   "source": [
    "If 493KB...Lemmetized"
   ]
  },
  {
   "cell_type": "markdown",
   "id": "1f729f61-d675-4a52-bd36-5184f97e9810",
   "metadata": {},
   "source": [
    "If 25MB...Lemmetized"
   ]
  },
  {
   "cell_type": "markdown",
   "id": "ab70fe82-3402-4d2d-a632-4716ae9e8d9a",
   "metadata": {},
   "source": [
    "If 200TB...Stemmed"
   ]
  },
  {
   "cell_type": "code",
   "execution_count": null,
   "id": "58fd8640-2c1e-4241-9cdd-2c0bd3da7b9a",
   "metadata": {},
   "outputs": [],
   "source": []
  },
  {
   "cell_type": "code",
   "execution_count": null,
   "id": "64e0fefe-1fa5-47ab-994f-3c06f0e56a72",
   "metadata": {},
   "outputs": [],
   "source": []
  },
  {
   "cell_type": "code",
   "execution_count": null,
   "id": "1269dbd0-caa6-4f9d-85c5-1bf1004bfade",
   "metadata": {},
   "outputs": [],
   "source": []
  },
  {
   "cell_type": "code",
   "execution_count": null,
   "id": "413326cb-e2cf-4ed2-a202-d31f925c0cae",
   "metadata": {},
   "outputs": [],
   "source": []
  },
  {
   "cell_type": "code",
   "execution_count": null,
   "id": "9fa2e1fe-3e20-45a3-8acb-efd5ce2e5e0d",
   "metadata": {},
   "outputs": [],
   "source": []
  },
  {
   "cell_type": "code",
   "execution_count": null,
   "id": "1f79c6a5-1003-415a-aa85-cc3b706a58b1",
   "metadata": {},
   "outputs": [],
   "source": []
  },
  {
   "cell_type": "code",
   "execution_count": null,
   "id": "5b72497a-8a14-455a-a173-1eca5c67b764",
   "metadata": {},
   "outputs": [],
   "source": []
  },
  {
   "cell_type": "code",
   "execution_count": null,
   "id": "1b91c3b5-7ed1-4fbf-8a16-cccf03c18034",
   "metadata": {},
   "outputs": [],
   "source": []
  },
  {
   "cell_type": "code",
   "execution_count": null,
   "id": "90b2e11b-2a63-410b-9275-03c48cc7040a",
   "metadata": {},
   "outputs": [],
   "source": []
  }
 ],
 "metadata": {
  "kernelspec": {
   "display_name": "Python 3 (ipykernel)",
   "language": "python",
   "name": "python3"
  },
  "language_info": {
   "codemirror_mode": {
    "name": "ipython",
    "version": 3
   },
   "file_extension": ".py",
   "mimetype": "text/x-python",
   "name": "python",
   "nbconvert_exporter": "python",
   "pygments_lexer": "ipython3",
   "version": "3.9.13"
  }
 },
 "nbformat": 4,
 "nbformat_minor": 5
}
