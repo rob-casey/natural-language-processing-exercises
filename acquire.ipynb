{
 "cells": [
  {
   "cell_type": "markdown",
   "id": "db645ce4-b227-4cc5-8a41-404e5e963c85",
   "metadata": {},
   "source": [
    "# NLP Exercises - Data Acquisition"
   ]
  },
  {
   "cell_type": "code",
   "execution_count": 2,
   "id": "c04693bf-42cd-417c-ac39-a9ac2e01f20f",
   "metadata": {},
   "outputs": [],
   "source": [
    "import pandas as pd\n",
    "from requests import get\n",
    "from bs4 import BeautifulSoup\n",
    "import os"
   ]
  },
  {
   "cell_type": "markdown",
   "id": "91066544-fa79-4edb-b86a-12811b5d5684",
   "metadata": {},
   "source": [
    "### 1. Codeup Blog Articles\n",
    "\n",
    "Visit Codeup's Blog and record the urls for at least 5 distinct blog posts. For each post, you should scrape at least the post's title and content.\n",
    "Encapsulate your work in a function named get_blog_articles that will return a list of dictionaries, with each dictionary representing one article. The shape of each dictionary should look like this:\n",
    "\n",
    "* {\n",
    "    'title': 'the title of the article',\n",
    "    'content': 'the full text content of the article'}\n"
   ]
  },
  {
   "cell_type": "markdown",
   "id": "2b476e9c-8310-4c88-be60-a9a2ac722473",
   "metadata": {},
   "source": [
    "### Article 1"
   ]
  },
  {
   "cell_type": "code",
   "execution_count": 6,
   "id": "f42c39dc-db25-431f-a86d-36f281149df8",
   "metadata": {},
   "outputs": [
    {
     "data": {
      "text/plain": [
       "<Response [200]>"
      ]
     },
     "execution_count": 6,
     "metadata": {},
     "output_type": "execute_result"
    }
   ],
   "source": [
    "# create response object\n",
    "url = 'http://codeup.com/featured/women-in-tech-panelist-spotlight/'\n",
    "headers = {'User-Agent': 'Codeup Data Science'}\n",
    "response = get(url, headers=headers)\n",
    "response"
   ]
  },
  {
   "cell_type": "code",
   "execution_count": 13,
   "id": "0c99bb34-3d7c-49e8-837f-339fafb7e99e",
   "metadata": {},
   "outputs": [
    {
     "name": "stdout",
     "output_type": "stream",
     "text": [
      "<!DOCTYPE html>\n",
      "<html lang=\"en-US\">\n",
      "<head>\n",
      "\t<meta charset=\"UTF-8\" />\n",
      "<meta http-equiv=\"X-UA-Compatible\" content=\"IE=edge\">\n",
      "\t<link rel=\"pingback\" href=\"https://codeup.com/xmlrpc.php\" />\n",
      "\n",
      "\t<script type=\"text/javascript\">\n",
      "\t\tdocument.documentElement.className = 'js';\n",
      "\t</script>\n",
      "\t\n",
      "\t<link rel=\"preconnect\" href=\"https://fonts.gstatic.com\" crossorigin /><script id=\"diviarea-loader\">window.DiviPopupData=window.DiviAreaConfig={\"zIndex\":1000000,\"animateSpeed\":400,\"triggerClassPrefix\":\"show-popup-\",\"idAttri\n"
     ]
    }
   ],
   "source": [
    "print(response.text[:500])"
   ]
  },
  {
   "cell_type": "code",
   "execution_count": 14,
   "id": "0a61c810-80bc-45a7-9274-096d3204f229",
   "metadata": {},
   "outputs": [],
   "source": [
    "# create soup object\n",
    "\n",
    "soup = BeautifulSoup(response.content, 'html.parser')"
   ]
  },
  {
   "cell_type": "code",
   "execution_count": 32,
   "id": "3fc20856-fd57-4b70-9ef8-9dad241d4f89",
   "metadata": {},
   "outputs": [],
   "source": [
    "# obtain article text\n",
    "\n",
    "article = soup.find('div', class_='entry-content')"
   ]
  },
  {
   "cell_type": "code",
   "execution_count": 25,
   "id": "9fabf3fd-55e6-4ac6-9e92-bccef4c5e3e6",
   "metadata": {},
   "outputs": [
    {
     "data": {
      "text/plain": [
       "'\\nWomen in tech: Panelist Spotlight – Magdalena Rahn\\nMar 28, 2023 | Events, Featured\\n'"
      ]
     },
     "execution_count": 25,
     "metadata": {},
     "output_type": "execute_result"
    }
   ],
   "source": [
    "article.text"
   ]
  },
  {
   "cell_type": "code",
   "execution_count": 37,
   "id": "34ccc05f-a3be-45ad-85d3-db542ab3a168",
   "metadata": {},
   "outputs": [],
   "source": [
    "# obtain article text elements under div\n",
    "\n",
    "p_elements = article.find_all('p')"
   ]
  },
  {
   "cell_type": "code",
   "execution_count": 38,
   "id": "bff54236-df6a-45ba-a20f-44e15c753cd4",
   "metadata": {},
   "outputs": [
    {
     "data": {
      "text/plain": [
       "'Magdalena Rahn is a current Codeup student in a Data Science cohort in San Antonio, Texas. She has a professional background in cross-cultural communications, international business development, the wine industry and journalism. After serving in the US Navy, she decided to complement her professional skill set by attending the Data Science program at Codeup; she is set to graduate in March 2023. Magdalena is fluent in French, Bulgarian, Chinese-Mandarin, Spanish and Italian.'"
      ]
     },
     "execution_count": 38,
     "metadata": {},
     "output_type": "execute_result"
    }
   ],
   "source": [
    "p_elements[3].text"
   ]
  },
  {
   "cell_type": "code",
   "execution_count": 39,
   "id": "8439afc3-2dd9-45bc-98bb-f46d0533b6db",
   "metadata": {},
   "outputs": [],
   "source": [
    "# obtain article title\n",
    "\n",
    "title = soup.find('h1').text"
   ]
  },
  {
   "cell_type": "code",
   "execution_count": 40,
   "id": "798c2aec-bc36-4b03-8e12-9f55da074b8d",
   "metadata": {},
   "outputs": [
    {
     "data": {
      "text/plain": [
       "'Women in tech: Panelist Spotlight – Magdalena Rahn'"
      ]
     },
     "execution_count": 40,
     "metadata": {},
     "output_type": "execute_result"
    }
   ],
   "source": [
    "title"
   ]
  },
  {
   "cell_type": "code",
   "execution_count": 41,
   "id": "6af566bb-6607-4024-8ccd-318ad4778d08",
   "metadata": {},
   "outputs": [],
   "source": [
    "# create a function that takes in a url and requests/parses html\n",
    "def codeup_soup(url):\n",
    "    '''\n",
    "    This function takes in a url, then requests and\n",
    "    parses html\n",
    "    '''\n",
    "    headers = {'User-Agent': 'Codeup Data Science'}\n",
    "    response = get(url, headers=headers)\n",
    "    soup = BeautifulSoup(response.content, 'html.parser')\n",
    "    return soup"
   ]
  },
  {
   "cell_type": "code",
   "execution_count": 54,
   "id": "eacbf8f2-a8f4-4f06-bf64-7ec95709e221",
   "metadata": {},
   "outputs": [],
   "source": [
    "def get_codeup_articles(urls, cached=False):\n",
    "    '''\n",
    "    This function takes in a list of Codeup Blog urls and a parameter,\n",
    "    with default cached == False which scrapes the title and text for each url.\n",
    "    creates a list of dictionaries with the title and text for each blog, \n",
    "    converts the list to a dataframe, and returns the df.\n",
    "    If cached == True, the function returns a df from a json file.\n",
    "    '''\n",
    "    if cached == True:\n",
    "        df = pd.read_json('codeup_blogs.json')\n",
    "        \n",
    "    # cached == False completes a fresh scrape for df     \n",
    "    else:\n",
    "\n",
    "        # Create an empty list to hold dictionaries\n",
    "        articles = []\n",
    "\n",
    "        # Loop through each url in our list of urls\n",
    "        for url in urls:\n",
    "\n",
    "            # Make request and soup object using helper\n",
    "            soup = codeup_soup(url)\n",
    "\n",
    "            # Save the title of each blog in variable title\n",
    "            title = soup.find('h1').text\n",
    "\n",
    "            # Save the text in each blog to variable text\n",
    "            content = soup.find('div', class_=\"entry-content\").text\n",
    "\n",
    "            # Create a dictionary holding the title and content for each blog\n",
    "            article = {'title': title, 'content': content}\n",
    "\n",
    "            # Add each dictionary to the articles list of dictionaries\n",
    "            articles.append(article)\n",
    "            \n",
    "        # convert our list of dictionaries to a df\n",
    "        df = pd.DataFrame(articles)\n",
    "\n",
    "        # Write df to a json file for faster access\n",
    "        df.to_json('codeup_blogs.json')\n",
    "    \n",
    "    return df"
   ]
  },
  {
   "cell_type": "code",
   "execution_count": 55,
   "id": "0d192079-8e02-4662-92ea-5f9cecd093a3",
   "metadata": {},
   "outputs": [],
   "source": [
    "# list of codeup urls\n",
    "\n",
    "urls = ['https://codeup.com/featured/women-in-tech-panelist-spotlight/', \n",
    "        'https://codeup.com/featured/women-in-tech-rachel-robbins-mayhill/',\n",
    "        'https://codeup.com/codeup-news/women-in-tech-panelist-spotlight-sarah-mellor/',\n",
    "        'https://codeup.com/events/women-in-tech-madeleine/',\n",
    "        'https://codeup.com/codeup-news/panelist-spotlight-4/']\n",
    "\n",
    "blogs = get_codeup_articles(urls=urls, cached=False)"
   ]
  },
  {
   "cell_type": "code",
   "execution_count": 56,
   "id": "7b47241e-0f21-41ed-ab05-48cbe34ac274",
   "metadata": {},
   "outputs": [
    {
     "data": {
      "text/html": [
       "<div>\n",
       "<style scoped>\n",
       "    .dataframe tbody tr th:only-of-type {\n",
       "        vertical-align: middle;\n",
       "    }\n",
       "\n",
       "    .dataframe tbody tr th {\n",
       "        vertical-align: top;\n",
       "    }\n",
       "\n",
       "    .dataframe thead th {\n",
       "        text-align: right;\n",
       "    }\n",
       "</style>\n",
       "<table border=\"1\" class=\"dataframe\">\n",
       "  <thead>\n",
       "    <tr style=\"text-align: right;\">\n",
       "      <th></th>\n",
       "      <th>title</th>\n",
       "      <th>content</th>\n",
       "    </tr>\n",
       "  </thead>\n",
       "  <tbody>\n",
       "    <tr>\n",
       "      <th>0</th>\n",
       "      <td>Women in tech: Panelist Spotlight – Magdalena ...</td>\n",
       "      <td>\\nWomen in tech: Panelist Spotlight – Magdalen...</td>\n",
       "    </tr>\n",
       "    <tr>\n",
       "      <th>1</th>\n",
       "      <td>Women in tech: Panelist Spotlight – Rachel Rob...</td>\n",
       "      <td>\\nWomen in tech: Panelist Spotlight – Rachel R...</td>\n",
       "    </tr>\n",
       "    <tr>\n",
       "      <th>2</th>\n",
       "      <td>Women in Tech: Panelist Spotlight – Sarah Mellor</td>\n",
       "      <td>\\nWomen in tech: Panelist Spotlight – Sarah Me...</td>\n",
       "    </tr>\n",
       "    <tr>\n",
       "      <th>3</th>\n",
       "      <td>Women in Tech: Panelist Spotlight – Madeleine ...</td>\n",
       "      <td>\\nWomen in tech: Panelist Spotlight – Madelein...</td>\n",
       "    </tr>\n",
       "    <tr>\n",
       "      <th>4</th>\n",
       "      <td>Black Excellence in Tech: Panelist Spotlight –...</td>\n",
       "      <td>\\nBlack excellence in tech: Panelist Spotlight...</td>\n",
       "    </tr>\n",
       "  </tbody>\n",
       "</table>\n",
       "</div>"
      ],
      "text/plain": [
       "                                               title  \\\n",
       "0  Women in tech: Panelist Spotlight – Magdalena ...   \n",
       "1  Women in tech: Panelist Spotlight – Rachel Rob...   \n",
       "2   Women in Tech: Panelist Spotlight – Sarah Mellor   \n",
       "3  Women in Tech: Panelist Spotlight – Madeleine ...   \n",
       "4  Black Excellence in Tech: Panelist Spotlight –...   \n",
       "\n",
       "                                             content  \n",
       "0  \\nWomen in tech: Panelist Spotlight – Magdalen...  \n",
       "1  \\nWomen in tech: Panelist Spotlight – Rachel R...  \n",
       "2  \\nWomen in tech: Panelist Spotlight – Sarah Me...  \n",
       "3  \\nWomen in tech: Panelist Spotlight – Madelein...  \n",
       "4  \\nBlack excellence in tech: Panelist Spotlight...  "
      ]
     },
     "execution_count": 56,
     "metadata": {},
     "output_type": "execute_result"
    }
   ],
   "source": [
    "blogs"
   ]
  },
  {
   "cell_type": "markdown",
   "id": "329512e4-539a-4235-81f1-a9b4d017d744",
   "metadata": {
    "tags": []
   },
   "source": [
    "## 2. News Articles\n",
    "\n",
    "We will now be scraping text data from inshorts, a website that provides a brief overview of many different topics.\n",
    "Write a function that scrapes the news articles for the following topics:\n",
    "* Business\n",
    "* Sports\n",
    "* Technology\n",
    "* Entertainment"
   ]
  },
  {
   "cell_type": "markdown",
   "id": "bf80cec6-ea07-4f13-a93e-7a15e4bff607",
   "metadata": {},
   "source": [
    "Hints:\n",
    "* Start by inspecting the website in your browser. Figure out which elements will be useful.\n",
    "* Start by creating a function that handles a single article and produces a dictionary like the one above.\n",
    "* Next create a function that will find all the articles on a single page and call the function you created in the last step for every article on the page.\n",
    "* Now create a function that will use the previous two functions to scrape the articles from all the pages that you need, and do any additional processing that needs to be done.\n"
   ]
  },
  {
   "cell_type": "code",
   "execution_count": 57,
   "id": "37729bb5-aff2-4415-9583-31a7618fb8bc",
   "metadata": {},
   "outputs": [],
   "source": [
    "def get_news_articles(cached=False):\n",
    "    '''\n",
    "    This function with default cached == False does a fresh scrape of inshort pages with topics \n",
    "    business, sports, technology, and entertainment and writes the returned df to a json file.\n",
    "    cached == True returns a df read in from a json file.\n",
    "    '''\n",
    "    # option to read in a json file instead of scrape for df\n",
    "    if cached == True:\n",
    "        df = pd.read_json('news_articles.json')\n",
    "        \n",
    "    # cached == False completes a fresh scrape for df    \n",
    "    else:\n",
    "    \n",
    "        # Set base_url that will be used in get request\n",
    "        base_url = 'https://inshorts.com/en/read/'\n",
    "        \n",
    "        # List of topics to scrape\n",
    "        topics = ['business', 'sports', 'technology', 'entertainment']\n",
    "        \n",
    "        # Create an empty list, articles, to hold our dictionaries\n",
    "        articles = []\n",
    "\n",
    "        for topic in topics:\n",
    "            \n",
    "            # Create url with topic endpoint\n",
    "            topic_url = base_url + topic\n",
    "            \n",
    "            # Make request and soup object using helper\n",
    "            soup = codeup_soup(topic_url)\n",
    "\n",
    "            # Scrape a ResultSet of all the news cards on the page\n",
    "            cards = soup.find_all('div', class_='news-card')\n",
    "\n",
    "            # Loop through each news card on the page and get what we want\n",
    "            for card in cards:\n",
    "                title = card.find('span', itemprop='headline' ).text\n",
    "                author = card.find('span', class_='author').text\n",
    "                content = card.find('div', itemprop='articleBody').text\n",
    "\n",
    "                # Create a dictionary, article, for each news card\n",
    "                article = ({'topic': topic, \n",
    "                            'title': title, \n",
    "                            'author': author, \n",
    "                            'content': content})\n",
    "\n",
    "                # Add the dictionary, article, to our list of dictionaries, articles.\n",
    "                articles.append(article)\n",
    "            \n",
    "        # Create a DataFrame from list of dictionaries\n",
    "        df = pd.DataFrame(articles)\n",
    "        \n",
    "        # Write df to json file for future use\n",
    "        df.to_json('news_articles.json')\n",
    "    \n",
    "    return df"
   ]
  },
  {
   "cell_type": "code",
   "execution_count": 58,
   "id": "e5c76449-d3ef-42db-a1ce-00dc6759d850",
   "metadata": {},
   "outputs": [
    {
     "data": {
      "text/html": [
       "<div>\n",
       "<style scoped>\n",
       "    .dataframe tbody tr th:only-of-type {\n",
       "        vertical-align: middle;\n",
       "    }\n",
       "\n",
       "    .dataframe tbody tr th {\n",
       "        vertical-align: top;\n",
       "    }\n",
       "\n",
       "    .dataframe thead th {\n",
       "        text-align: right;\n",
       "    }\n",
       "</style>\n",
       "<table border=\"1\" class=\"dataframe\">\n",
       "  <thead>\n",
       "    <tr style=\"text-align: right;\">\n",
       "      <th></th>\n",
       "      <th>topic</th>\n",
       "      <th>title</th>\n",
       "      <th>author</th>\n",
       "      <th>content</th>\n",
       "    </tr>\n",
       "  </thead>\n",
       "  <tbody>\n",
       "    <tr>\n",
       "      <th>0</th>\n",
       "      <td>business</td>\n",
       "      <td>Video shows moment cake is thrown at Porsche C...</td>\n",
       "      <td>Pragya Swastik</td>\n",
       "      <td>A video captured the moment a cake was thrown ...</td>\n",
       "    </tr>\n",
       "    <tr>\n",
       "      <th>1</th>\n",
       "      <td>business</td>\n",
       "      <td>Pakistan rupee falls to all-time low of 300 a ...</td>\n",
       "      <td>Pragya Swastik</td>\n",
       "      <td>Pakistan's rupee slumped to a new record low o...</td>\n",
       "    </tr>\n",
       "    <tr>\n",
       "      <th>2</th>\n",
       "      <td>business</td>\n",
       "      <td>SpiceJet denies insolvency reports, says tryin...</td>\n",
       "      <td>Ashley Paul</td>\n",
       "      <td>SpiceJet said it's taking steps to revive its ...</td>\n",
       "    </tr>\n",
       "    <tr>\n",
       "      <th>3</th>\n",
       "      <td>business</td>\n",
       "      <td>Bank of England raises lending rates to 4.5% i...</td>\n",
       "      <td>Srishty Choudhury</td>\n",
       "      <td>Bank of England (BoE) raised its benchmark len...</td>\n",
       "    </tr>\n",
       "    <tr>\n",
       "      <th>4</th>\n",
       "      <td>business</td>\n",
       "      <td>Man Group appoints its first female CEO in 240...</td>\n",
       "      <td>Pragya Swastik</td>\n",
       "      <td>London-based investment advice company Man Gro...</td>\n",
       "    </tr>\n",
       "    <tr>\n",
       "      <th>...</th>\n",
       "      <td>...</td>\n",
       "      <td>...</td>\n",
       "      <td>...</td>\n",
       "      <td>...</td>\n",
       "    </tr>\n",
       "    <tr>\n",
       "      <th>95</th>\n",
       "      <td>entertainment</td>\n",
       "      <td>Even after 8 years, children are watching 'F.I...</td>\n",
       "      <td>Bhawana Chaudhary</td>\n",
       "      <td>Actress Kavita Kaushik, known for her TV show ...</td>\n",
       "    </tr>\n",
       "    <tr>\n",
       "      <th>96</th>\n",
       "      <td>entertainment</td>\n",
       "      <td>MP has withdrawn tax exemption to 'The Kerala....</td>\n",
       "      <td>Medhaa Gupta</td>\n",
       "      <td>Congress Rajya Sabha MP Vivek Tankha has claim...</td>\n",
       "    </tr>\n",
       "    <tr>\n",
       "      <th>97</th>\n",
       "      <td>entertainment</td>\n",
       "      <td>Want to ask Amitabh Bachchan 'Where do you wan...</td>\n",
       "      <td>Bhawana Chaudhary</td>\n",
       "      <td>Actor Piyush Mishra said that he wants to ask ...</td>\n",
       "    </tr>\n",
       "    <tr>\n",
       "      <th>98</th>\n",
       "      <td>entertainment</td>\n",
       "      <td>I never made wrong decisions: Kangana on Rasca...</td>\n",
       "      <td>Swati Dubey</td>\n",
       "      <td>Kangana Ranaut reacted to an old video shared ...</td>\n",
       "    </tr>\n",
       "    <tr>\n",
       "      <th>99</th>\n",
       "      <td>entertainment</td>\n",
       "      <td>Sonam is gutsy, Deepika isn't adventurous: Des...</td>\n",
       "      <td>Bhawana Chaudhary</td>\n",
       "      <td>While talking about Hindi film actresses being...</td>\n",
       "    </tr>\n",
       "  </tbody>\n",
       "</table>\n",
       "<p>100 rows × 4 columns</p>\n",
       "</div>"
      ],
      "text/plain": [
       "            topic                                              title  \\\n",
       "0        business  Video shows moment cake is thrown at Porsche C...   \n",
       "1        business  Pakistan rupee falls to all-time low of 300 a ...   \n",
       "2        business  SpiceJet denies insolvency reports, says tryin...   \n",
       "3        business  Bank of England raises lending rates to 4.5% i...   \n",
       "4        business  Man Group appoints its first female CEO in 240...   \n",
       "..            ...                                                ...   \n",
       "95  entertainment  Even after 8 years, children are watching 'F.I...   \n",
       "96  entertainment  MP has withdrawn tax exemption to 'The Kerala....   \n",
       "97  entertainment  Want to ask Amitabh Bachchan 'Where do you wan...   \n",
       "98  entertainment  I never made wrong decisions: Kangana on Rasca...   \n",
       "99  entertainment  Sonam is gutsy, Deepika isn't adventurous: Des...   \n",
       "\n",
       "               author                                            content  \n",
       "0      Pragya Swastik  A video captured the moment a cake was thrown ...  \n",
       "1      Pragya Swastik  Pakistan's rupee slumped to a new record low o...  \n",
       "2         Ashley Paul  SpiceJet said it's taking steps to revive its ...  \n",
       "3   Srishty Choudhury  Bank of England (BoE) raised its benchmark len...  \n",
       "4      Pragya Swastik  London-based investment advice company Man Gro...  \n",
       "..                ...                                                ...  \n",
       "95  Bhawana Chaudhary  Actress Kavita Kaushik, known for her TV show ...  \n",
       "96       Medhaa Gupta  Congress Rajya Sabha MP Vivek Tankha has claim...  \n",
       "97  Bhawana Chaudhary  Actor Piyush Mishra said that he wants to ask ...  \n",
       "98        Swati Dubey  Kangana Ranaut reacted to an old video shared ...  \n",
       "99  Bhawana Chaudhary  While talking about Hindi film actresses being...  \n",
       "\n",
       "[100 rows x 4 columns]"
      ]
     },
     "execution_count": 58,
     "metadata": {},
     "output_type": "execute_result"
    }
   ],
   "source": [
    "get_news_articles()"
   ]
  },
  {
   "cell_type": "code",
   "execution_count": null,
   "id": "febe95a6-a997-4c03-89e4-f60fc8e33621",
   "metadata": {},
   "outputs": [],
   "source": []
  },
  {
   "cell_type": "code",
   "execution_count": null,
   "id": "482a107c-f2b0-4533-ac62-ec569897dace",
   "metadata": {},
   "outputs": [],
   "source": []
  },
  {
   "cell_type": "code",
   "execution_count": null,
   "id": "563c0eea-abe0-41d7-a125-faf704e74f6a",
   "metadata": {},
   "outputs": [],
   "source": []
  },
  {
   "cell_type": "code",
   "execution_count": null,
   "id": "b780ce7c-5fd0-43b8-8158-c752338e5cb3",
   "metadata": {},
   "outputs": [],
   "source": []
  },
  {
   "cell_type": "code",
   "execution_count": null,
   "id": "edbc234d-c808-46dd-9fea-e41f83ec8edb",
   "metadata": {},
   "outputs": [],
   "source": []
  },
  {
   "cell_type": "code",
   "execution_count": null,
   "id": "3285fe2d-a6cb-4d37-b5c8-658da73f039a",
   "metadata": {},
   "outputs": [],
   "source": []
  },
  {
   "cell_type": "code",
   "execution_count": null,
   "id": "ce2c5a82-9deb-4193-be44-2e4bf97c9940",
   "metadata": {},
   "outputs": [],
   "source": []
  },
  {
   "cell_type": "code",
   "execution_count": null,
   "id": "3cef5c2e-45b6-4b3b-a9d3-71ab04f5fe82",
   "metadata": {},
   "outputs": [],
   "source": []
  },
  {
   "cell_type": "code",
   "execution_count": null,
   "id": "ec0c0ecf-ac72-4eed-a688-44e03afe61e4",
   "metadata": {},
   "outputs": [],
   "source": []
  },
  {
   "cell_type": "code",
   "execution_count": null,
   "id": "7820528c-324a-468c-b272-00b42d4e16a5",
   "metadata": {},
   "outputs": [],
   "source": []
  },
  {
   "cell_type": "code",
   "execution_count": null,
   "id": "5851e278-e89e-44b1-a36b-61c9b49c2951",
   "metadata": {},
   "outputs": [],
   "source": []
  },
  {
   "cell_type": "code",
   "execution_count": null,
   "id": "8f51ecbc-8485-495f-a4c7-d5fd1b42ab0a",
   "metadata": {},
   "outputs": [],
   "source": []
  },
  {
   "cell_type": "code",
   "execution_count": null,
   "id": "a8198773-31b5-42a3-8818-2b9e382ad872",
   "metadata": {},
   "outputs": [],
   "source": []
  },
  {
   "cell_type": "code",
   "execution_count": null,
   "id": "063bd326-f05b-4d86-8f8d-d65ce1da1435",
   "metadata": {},
   "outputs": [],
   "source": []
  },
  {
   "cell_type": "code",
   "execution_count": null,
   "id": "705ab67e-1d0a-4cf4-bc42-9e39e5954a32",
   "metadata": {},
   "outputs": [],
   "source": []
  },
  {
   "cell_type": "code",
   "execution_count": null,
   "id": "4e53fea7-d811-4b5b-b8a9-06089290e4fc",
   "metadata": {},
   "outputs": [],
   "source": []
  },
  {
   "cell_type": "code",
   "execution_count": null,
   "id": "599766b3-43df-4ba5-8cea-964c96b3d196",
   "metadata": {},
   "outputs": [],
   "source": []
  },
  {
   "cell_type": "code",
   "execution_count": null,
   "id": "5eb99c3c-029d-4f00-80aa-f30503e9c81a",
   "metadata": {},
   "outputs": [],
   "source": []
  },
  {
   "cell_type": "code",
   "execution_count": null,
   "id": "e3d1abed-3e04-44b0-886c-eabeb2a420e9",
   "metadata": {},
   "outputs": [],
   "source": []
  },
  {
   "cell_type": "code",
   "execution_count": null,
   "id": "8ab1e857-58c0-4d32-a795-21b5bc19a2d0",
   "metadata": {},
   "outputs": [],
   "source": []
  },
  {
   "cell_type": "code",
   "execution_count": null,
   "id": "5434bc02-9e4c-464b-9b83-30c2d02dbfcd",
   "metadata": {},
   "outputs": [],
   "source": []
  },
  {
   "cell_type": "code",
   "execution_count": null,
   "id": "25148ba8-70d1-4a62-ba72-d71b219d510c",
   "metadata": {},
   "outputs": [],
   "source": []
  },
  {
   "cell_type": "code",
   "execution_count": null,
   "id": "f01abd24-0071-40e8-a77d-349e074a712c",
   "metadata": {},
   "outputs": [],
   "source": []
  },
  {
   "cell_type": "code",
   "execution_count": null,
   "id": "fb94b6a7-6fb4-4c98-a501-3f01589ab085",
   "metadata": {},
   "outputs": [],
   "source": []
  },
  {
   "cell_type": "code",
   "execution_count": null,
   "id": "12bab69f-5669-46f8-ad25-37e0c6bf0cc8",
   "metadata": {},
   "outputs": [],
   "source": []
  },
  {
   "cell_type": "code",
   "execution_count": null,
   "id": "a00d9bd9-7a04-4f50-bc01-0608560e3dcb",
   "metadata": {},
   "outputs": [],
   "source": []
  },
  {
   "cell_type": "code",
   "execution_count": null,
   "id": "40621c63-432a-4b46-8e63-d257dd9e4383",
   "metadata": {},
   "outputs": [],
   "source": []
  },
  {
   "cell_type": "code",
   "execution_count": null,
   "id": "9733767c-c7cf-43ff-aee4-262218a2e99c",
   "metadata": {},
   "outputs": [],
   "source": []
  },
  {
   "cell_type": "code",
   "execution_count": null,
   "id": "9e4d477c-fcfb-462e-9b89-023259bc5112",
   "metadata": {},
   "outputs": [],
   "source": []
  },
  {
   "cell_type": "code",
   "execution_count": null,
   "id": "97644384-0ac5-452f-abfa-b204d543c362",
   "metadata": {},
   "outputs": [],
   "source": []
  },
  {
   "cell_type": "code",
   "execution_count": null,
   "id": "3c470e27-4c70-4365-a6fa-90d96db744a3",
   "metadata": {},
   "outputs": [],
   "source": []
  }
 ],
 "metadata": {
  "kernelspec": {
   "display_name": "Python 3 (ipykernel)",
   "language": "python",
   "name": "python3"
  },
  "language_info": {
   "codemirror_mode": {
    "name": "ipython",
    "version": 3
   },
   "file_extension": ".py",
   "mimetype": "text/x-python",
   "name": "python",
   "nbconvert_exporter": "python",
   "pygments_lexer": "ipython3",
   "version": "3.9.13"
  }
 },
 "nbformat": 4,
 "nbformat_minor": 5
}
